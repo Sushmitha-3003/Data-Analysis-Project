{
 "cells": [
  {
   "cell_type": "markdown",
   "metadata": {},
   "source": []
  },
  {
   "cell_type": "code",
   "execution_count": 4,
   "metadata": {},
   "outputs": [
    {
     "data": {
      "text/html": [
       "<div>\n",
       "<style scoped>\n",
       "    .dataframe tbody tr th:only-of-type {\n",
       "        vertical-align: middle;\n",
       "    }\n",
       "\n",
       "    .dataframe tbody tr th {\n",
       "        vertical-align: top;\n",
       "    }\n",
       "\n",
       "    .dataframe thead th {\n",
       "        text-align: right;\n",
       "    }\n",
       "</style>\n",
       "<table border=\"1\" class=\"dataframe\">\n",
       "  <thead>\n",
       "    <tr style=\"text-align: right;\">\n",
       "      <th></th>\n",
       "      <th>Restaurant ID</th>\n",
       "      <th>Restaurant Name</th>\n",
       "      <th>Country Code</th>\n",
       "      <th>City</th>\n",
       "      <th>Address</th>\n",
       "      <th>Locality</th>\n",
       "      <th>Locality Verbose</th>\n",
       "      <th>Longitude</th>\n",
       "      <th>Latitude</th>\n",
       "      <th>Cuisines</th>\n",
       "      <th>...</th>\n",
       "      <th>Currency</th>\n",
       "      <th>Has Table booking</th>\n",
       "      <th>Has Online delivery</th>\n",
       "      <th>Is delivering now</th>\n",
       "      <th>Switch to order menu</th>\n",
       "      <th>Price range</th>\n",
       "      <th>Aggregate rating</th>\n",
       "      <th>Rating color</th>\n",
       "      <th>Rating text</th>\n",
       "      <th>Votes</th>\n",
       "    </tr>\n",
       "  </thead>\n",
       "  <tbody>\n",
       "    <tr>\n",
       "      <th>0</th>\n",
       "      <td>6317637</td>\n",
       "      <td>Le Petit Souffle</td>\n",
       "      <td>162</td>\n",
       "      <td>Makati City</td>\n",
       "      <td>Third Floor, Century City Mall, Kalayaan Avenu...</td>\n",
       "      <td>Century City Mall, Poblacion, Makati City</td>\n",
       "      <td>Century City Mall, Poblacion, Makati City, Mak...</td>\n",
       "      <td>121.027535</td>\n",
       "      <td>14.565443</td>\n",
       "      <td>French, Japanese, Desserts</td>\n",
       "      <td>...</td>\n",
       "      <td>Botswana Pula(P)</td>\n",
       "      <td>Yes</td>\n",
       "      <td>No</td>\n",
       "      <td>No</td>\n",
       "      <td>No</td>\n",
       "      <td>3</td>\n",
       "      <td>4.8</td>\n",
       "      <td>Dark Green</td>\n",
       "      <td>Excellent</td>\n",
       "      <td>314</td>\n",
       "    </tr>\n",
       "    <tr>\n",
       "      <th>1</th>\n",
       "      <td>6304287</td>\n",
       "      <td>Izakaya Kikufuji</td>\n",
       "      <td>162</td>\n",
       "      <td>Makati City</td>\n",
       "      <td>Little Tokyo, 2277 Chino Roces Avenue, Legaspi...</td>\n",
       "      <td>Little Tokyo, Legaspi Village, Makati City</td>\n",
       "      <td>Little Tokyo, Legaspi Village, Makati City, Ma...</td>\n",
       "      <td>121.014101</td>\n",
       "      <td>14.553708</td>\n",
       "      <td>Japanese</td>\n",
       "      <td>...</td>\n",
       "      <td>Botswana Pula(P)</td>\n",
       "      <td>Yes</td>\n",
       "      <td>No</td>\n",
       "      <td>No</td>\n",
       "      <td>No</td>\n",
       "      <td>3</td>\n",
       "      <td>4.5</td>\n",
       "      <td>Dark Green</td>\n",
       "      <td>Excellent</td>\n",
       "      <td>591</td>\n",
       "    </tr>\n",
       "  </tbody>\n",
       "</table>\n",
       "<p>2 rows × 21 columns</p>\n",
       "</div>"
      ],
      "text/plain": [
       "   Restaurant ID   Restaurant Name  Country Code         City  \\\n",
       "0        6317637  Le Petit Souffle           162  Makati City   \n",
       "1        6304287  Izakaya Kikufuji           162  Makati City   \n",
       "\n",
       "                                             Address  \\\n",
       "0  Third Floor, Century City Mall, Kalayaan Avenu...   \n",
       "1  Little Tokyo, 2277 Chino Roces Avenue, Legaspi...   \n",
       "\n",
       "                                     Locality  \\\n",
       "0   Century City Mall, Poblacion, Makati City   \n",
       "1  Little Tokyo, Legaspi Village, Makati City   \n",
       "\n",
       "                                    Locality Verbose   Longitude   Latitude  \\\n",
       "0  Century City Mall, Poblacion, Makati City, Mak...  121.027535  14.565443   \n",
       "1  Little Tokyo, Legaspi Village, Makati City, Ma...  121.014101  14.553708   \n",
       "\n",
       "                     Cuisines  ...          Currency Has Table booking  \\\n",
       "0  French, Japanese, Desserts  ...  Botswana Pula(P)               Yes   \n",
       "1                    Japanese  ...  Botswana Pula(P)               Yes   \n",
       "\n",
       "  Has Online delivery Is delivering now Switch to order menu Price range  \\\n",
       "0                  No                No                   No           3   \n",
       "1                  No                No                   No           3   \n",
       "\n",
       "   Aggregate rating  Rating color Rating text Votes  \n",
       "0               4.8    Dark Green   Excellent   314  \n",
       "1               4.5    Dark Green   Excellent   591  \n",
       "\n",
       "[2 rows x 21 columns]"
      ]
     },
     "execution_count": 4,
     "metadata": {},
     "output_type": "execute_result"
    }
   ],
   "source": [
    "import pandas as pd\n",
    "import numpy as np\n",
    "import matplotlib.pyplot as plt\n",
    "import seaborn as sns\n",
    "df=pd.read_csv(\"D:/Excel/Dataset .csv\")\n",
    "df.head(2)\n"
   ]
  },
  {
   "cell_type": "markdown",
   "metadata": {},
   "source": [
    "**Task: Restaurant Chains**"
   ]
  },
  {
   "cell_type": "markdown",
   "metadata": {},
   "source": [
    "Identify if there are any restaurant chains present in the dataset."
   ]
  },
  {
   "cell_type": "code",
   "execution_count": 5,
   "metadata": {},
   "outputs": [
    {
     "name": "stdout",
     "output_type": "stream",
     "text": [
      "Restaurant Chains in the Dataset:\n",
      "Restaurant Name\n",
      "Cafe Coffee Day       83\n",
      "Domino's Pizza        79\n",
      "Subway                63\n",
      "Green Chick Chop      51\n",
      "McDonald's            48\n",
      "                      ..\n",
      "Town Hall              2\n",
      "Halki Aanch            2\n",
      "Snack Junction         2\n",
      "Delhi Biryani Hut      2\n",
      "Beliram Degchiwala     2\n",
      "Name: count, Length: 734, dtype: int64\n"
     ]
    }
   ],
   "source": [
    "# Count the number of restaurants\n",
    "restaurant_count=df['Restaurant Name'].value_counts()\n",
    "restaurant_count\n",
    "# Identify chains\n",
    "restaurant_chain=restaurant_count[restaurant_count >1]\n",
    "print(\"Restaurant Chains in the Dataset:\")\n",
    "print(restaurant_chain)"
   ]
  },
  {
   "cell_type": "code",
   "execution_count": 6,
   "metadata": {},
   "outputs": [
    {
     "name": "stdout",
     "output_type": "stream",
     "text": [
      "Restaurant Chains with Multiple Locations:\n",
      "Restaurant Name\n",
      "10 Downing Street        2\n",
      "221 B Baker Street       3\n",
      "34 Parkstreet Lane       2\n",
      "34, Chowringhee Lane    12\n",
      "4700BC Popcorn           2\n",
      "                        ..\n",
      "Zaika                    3\n",
      "Zaika Kathi Rolls        2\n",
      "Zizo                     3\n",
      "Zooby's Kitchen          2\n",
      "bu��no                   2\n",
      "Name: Locality, Length: 706, dtype: int64\n"
     ]
    }
   ],
   "source": [
    "# count unique locations\n",
    "restaurant_location=df.groupby('Restaurant Name')['Locality'].nunique()\n",
    "\n",
    "restaurant_chain=restaurant_location[restaurant_location > 1]\n",
    "print(\"Restaurant Chains with Multiple Locations:\")\n",
    "print(restaurant_chain)"
   ]
  },
  {
   "cell_type": "markdown",
   "metadata": {},
   "source": [
    "Analyze the ratings and popularity of different restaurant chains."
   ]
  },
  {
   "cell_type": "code",
   "execution_count": 7,
   "metadata": {},
   "outputs": [
    {
     "name": "stdout",
     "output_type": "stream",
     "text": [
      "Average Ratings of Restaurant Chains:\n",
      "Restaurant Name\n",
      "Talaga Sampireun              4.900\n",
      "AB's Absolute Barbecues       4.850\n",
      "Silantro Fil-Mex              4.850\n",
      "AB's - Absolute Barbecues     4.825\n",
      "Naturals Ice Cream            4.800\n",
      "                              ...  \n",
      "OCD - Online Cake Delivery    0.000\n",
      "Night Munchers                0.000\n",
      "Biryani Express               0.000\n",
      "Murliwala Bakers              0.000\n",
      "Firangi Bake                  0.000\n",
      "Name: Aggregate rating, Length: 706, dtype: float64\n"
     ]
    }
   ],
   "source": [
    "#Average rate of each chain\n",
    "df_chain=df[df['Restaurant Name'].isin(restaurant_chain.index)]\n",
    "chain_ratings=df_chain.groupby('Restaurant Name')['Aggregate rating'].mean().sort_values(ascending=False)\n",
    "print(\"Average Ratings of Restaurant Chains:\")\n",
    "print(chain_ratings)"
   ]
  },
  {
   "cell_type": "code",
   "execution_count": 8,
   "metadata": {},
   "outputs": [
    {
     "name": "stdout",
     "output_type": "stream",
     "text": [
      "Most Popular Restaurant Chains (Based on Votes):\n",
      "Restaurant Name\n",
      "Barbeque Nation              28142\n",
      "AB's - Absolute Barbecues    13400\n",
      "Big Chill                    10853\n",
      "Farzi Cafe                   10098\n",
      "Truffles                      9682\n",
      "                             ...  \n",
      "Bake Walkers                     0\n",
      "Aap Ki Khatir                    0\n",
      "Chinese Fast Food                0\n",
      "Bikaner Misthan Bhandar          0\n",
      "Dev Food                         0\n",
      "Name: Votes, Length: 706, dtype: int64\n"
     ]
    }
   ],
   "source": [
    "chain_popularity=df_chain.groupby('Restaurant Name')['Votes'].sum().sort_values(ascending=False)\n",
    "print(\"Most Popular Restaurant Chains (Based on Votes):\")\n",
    "print(chain_popularity)"
   ]
  },
  {
   "cell_type": "markdown",
   "metadata": {},
   "source": [
    "**Task: Restaurant Reviews**"
   ]
  },
  {
   "cell_type": "markdown",
   "metadata": {},
   "source": [
    "Analyze the text reviews to identify the most common positive and negative keywords."
   ]
  },
  {
   "cell_type": "code",
   "execution_count": 9,
   "metadata": {},
   "outputs": [
    {
     "data": {
      "text/plain": [
       "array(['Excellent', 'Very Good', 'Good', 'Average', 'Not rated', 'Poor'],\n",
       "      dtype=object)"
      ]
     },
     "execution_count": 9,
     "metadata": {},
     "output_type": "execute_result"
    }
   ],
   "source": [
    "df['Rating text'].unique()"
   ]
  },
  {
   "cell_type": "code",
   "execution_count": 10,
   "metadata": {},
   "outputs": [
    {
     "name": "stdout",
     "output_type": "stream",
     "text": [
      "Most Common Positive Keywords: [('excellent', 1), ('good', 1)]\n",
      "Most Common Negative Keywords: [('average', 1), ('poor', 1)]\n"
     ]
    }
   ],
   "source": [
    "import re\n",
    "import pandas as pd\n",
    "import nltk\n",
    "from nltk.tokenize import word_tokenize\n",
    "from nltk.corpus import stopwords\n",
    "from collections import Counter\n",
    "from textblob import TextBlob\n",
    "#nltk.download('all')\n",
    "def preprocess_text(text):\n",
    "    text = text.lower()  \n",
    "    text = re.sub(r'[^\\w\\s]', '', text)  \n",
    "    tokens = word_tokenize(text)  \n",
    "    tokens = [word for word in tokens if word not in stopwords.words('english')]  \n",
    "    return tokens\n",
    "\n",
    "# Tokenize and preprocess reviews\n",
    "all_words = []\n",
    "word_sentiments = {}\n",
    "\n",
    "for review in df['Rating text']:\n",
    "    tokens = preprocess_text(review)\n",
    "    all_words.extend(tokens)\n",
    "    \n",
    "    \n",
    "    for word in tokens:\n",
    "        sentiment = TextBlob(word).sentiment.polarity\n",
    "        word_sentiments[word] = sentiment\n",
    "\n",
    "# Categorize words \n",
    "positive_words = [word for word, score in word_sentiments.items() if score > 0]\n",
    "negative_words = [word for word, score in word_sentiments.items() if score < 0]\n",
    "\n",
    "\n",
    "common_positive = Counter(positive_words).most_common(5)\n",
    "common_negative = Counter(negative_words).most_common(5)\n",
    "\n",
    "print(\"Most Common Positive Keywords:\", common_positive)\n",
    "print(\"Most Common Negative Keywords:\", common_negative)\n"
   ]
  },
  {
   "cell_type": "markdown",
   "metadata": {},
   "source": [
    "Calculate the average length of reviews and explore if there is a relationship between review length and rating.\n",
    "\n"
   ]
  },
  {
   "cell_type": "code",
   "execution_count": 11,
   "metadata": {},
   "outputs": [
    {
     "name": "stdout",
     "output_type": "stream",
     "text": [
      "Average Review Length: 1.34 words\n"
     ]
    },
    {
     "data": {
      "image/png": "[encoded data removed]",
      "text/plain": [
       "<Figure size 800x500 with 1 Axes>"
      ]
     },
     "metadata": {},
     "output_type": "display_data"
    },
    {
     "name": "stdout",
     "output_type": "stream",
     "text": [
      "Correlation between Review Length and Rating: nan\n"
     ]
    }
   ],
   "source": [
    "# converted to numerical ratings\n",
    "rating_mapping = {\n",
    "    \"Excellent\": 5,\n",
    "    \"Very Good\": 4,\n",
    "    \"Good\": 3,\n",
    "    \"Average\": 2,\n",
    "    \"Poor\": 1\n",
    "}\n",
    "df[\"Numeric_Rating\"] = df[\"Rating text\"].map(rating_mapping)\n",
    "\n",
    "# Calculate review length\n",
    "df[\"Review_Length\"] = df[\"Rating text\"].apply(lambda x: len(word_tokenize(x)))\n",
    "\n",
    "#Average review length\n",
    "avg_length = df[\"Review_Length\"].mean()\n",
    "print(f\"Average Review Length: {avg_length:.2f} words\")\n",
    "\n",
    "# Scatter plot\n",
    "plt.figure(figsize=(8, 5))\n",
    "sns.scatterplot(x=df[\"Review_Length\"], y=df[\"Numeric_Rating\"], alpha=0.7)\n",
    "plt.xlabel(\"Review Length (words)\")\n",
    "plt.ylabel(\"Rating\")\n",
    "plt.title(\"Review Length vs. Rating\")\n",
    "plt.grid()\n",
    "plt.show()\n",
    "\n",
    "# Calculate correlation between Review Length and Rating\n",
    "correlation = np.corrcoef(df[\"Review_Length\"], df[\"Numeric_Rating\"])[0, 1]\n",
    "print(f\"Correlation between Review Length and Rating: {correlation:.2f}\")\n"
   ]
  },
  {
   "cell_type": "markdown",
   "metadata": {},
   "source": [
    "**Task: Votes Analysis**\n"
   ]
  },
  {
   "cell_type": "markdown",
   "metadata": {},
   "source": [
    "Identify the restaurants with the highest and lowest number of votes."
   ]
  },
  {
   "cell_type": "code",
   "execution_count": 12,
   "metadata": {},
   "outputs": [
    {
     "name": "stdout",
     "output_type": "stream",
     "text": [
      "Highest_votes restaurant is Barbeque Nation with 28142 votes\n",
      "Lowest_votes restaurant is #hashtag with 0 votes\n"
     ]
    }
   ],
   "source": [
    "Restaurant_votes=df.groupby('Restaurant Name')['Votes'].sum()\n",
    "Highest_votes_Restaurant=Restaurant_votes.idxmax()\n",
    "Highest_votes=Restaurant_votes.max()\n",
    "Lowest_votes_Restaurant=Restaurant_votes.idxmin()\n",
    "Lowest_votes=Restaurant_votes.min()\n",
    "print(f'Highest_votes restaurant is {Highest_votes_Restaurant} with {Highest_votes} votes')\n",
    "print(f'Lowest_votes restaurant is {Lowest_votes_Restaurant} with {Lowest_votes} votes')"
   ]
  },
  {
   "cell_type": "markdown",
   "metadata": {},
   "source": [
    "Analyze if there is a correlation between the number of votes and the rating of a restaurant"
   ]
  },
  {
   "cell_type": "code",
   "execution_count": 13,
   "metadata": {},
   "outputs": [
    {
     "name": "stdout",
     "output_type": "stream",
     "text": [
      "correlation between the number of votes and the rating of a restaurant is                      Votes  Aggregate rating\n",
      "Votes             1.000000          0.313691\n",
      "Aggregate rating  0.313691          1.000000\n"
     ]
    },
    {
     "data": {
      "image/png": "[encoded data removed]",
      "text/plain": [
       "<Figure size 640x480 with 2 Axes>"
      ]
     },
     "metadata": {},
     "output_type": "display_data"
    }
   ],
   "source": [
    "correlation=df[['Votes','Aggregate rating']].corr()\n",
    "print(f'correlation between the number of votes and the rating of a restaurant is {correlation}')\n",
    "import matplotlib.pyplot as plt\n",
    "import seaborn as sns\n",
    "sns.heatmap(correlation,annot=True,cmap='coolwarm')\n",
    "plt.title(\"Correlation Heatmap:Votes vs Rating\")\n",
    "plt.show()"
   ]
  },
  {
   "cell_type": "markdown",
   "metadata": {},
   "source": [
    "**Conclusion**:Since 0.3137 is a positive but weak correlation, this suggests that restaurants with more votes tend to have slightly higher ratings, but the relationship is not strong."
   ]
  },
  {
   "cell_type": "markdown",
   "metadata": {},
   "source": [
    "**Task: Price Range vs. Online Delivery andTable Booking**\n"
   ]
  },
  {
   "cell_type": "markdown",
   "metadata": {},
   "source": [
    "Analyze if there is a relationship between the price range and the availability of online delivery and table booking."
   ]
  },
  {
   "cell_type": "code",
   "execution_count": 14,
   "metadata": {},
   "outputs": [
    {
     "data": {
      "image/png": "[encoded data removed]",
      "text/plain": [
       "<Figure size 640x480 with 2 Axes>"
      ]
     },
     "metadata": {},
     "output_type": "display_data"
    }
   ],
   "source": [
    "price_online = pd.crosstab(df['Price range'], df['Has Online delivery'])\n",
    "sns.heatmap(price_online, annot=True, cmap=\"coolwarm\", fmt=\"d\")\n",
    "plt.title(\"Price Range vs Online Delivery\")\n",
    "plt.ylabel(\"Price Range\")\n",
    "plt.xlabel(\"Online Delivery\")\n",
    "plt.show()\n"
   ]
  },
  {
   "cell_type": "code",
   "execution_count": 15,
   "metadata": {},
   "outputs": [
    {
     "data": {
      "image/png": "[encoded data removed]",
      "text/plain": [
       "<Figure size 640x480 with 2 Axes>"
      ]
     },
     "metadata": {},
     "output_type": "display_data"
    }
   ],
   "source": [
    "price_table = pd.crosstab(df['Price range'], df['Has Table booking'])\n",
    "sns.heatmap(price_table, annot=True, cmap=\"coolwarm\", fmt=\"d\")\n",
    "plt.title(\"Price Range vs Table Booking\")\n",
    "plt.ylabel(\"Price Range\")\n",
    "plt.xlabel(\"Table Booking\")\n",
    "plt.show()\n"
   ]
  },
  {
   "cell_type": "markdown",
   "metadata": {},
   "source": [
    "**Conclusion** Online Delivery is more common in lower-priced restaurants.\n",
    "Table Booking is more common in higher-priced restaurants.\n",
    "Higher-priced restaurants prioritize customer experience and dining ambiance, while lower-priced ones focus on convenience."
   ]
  },
  {
   "cell_type": "markdown",
   "metadata": {},
   "source": [
    "Determine if higher-priced restaurants are  more likely to offer these services."
   ]
  },
  {
   "cell_type": "code",
   "execution_count": 16,
   "metadata": {},
   "outputs": [
    {
     "name": "stdout",
     "output_type": "stream",
     "text": [
      "Chi-Square Test for Online Delivery vs Price Range: p-value = 0.00000\n",
      "There is a significant relationship between price range and online delivery.\n",
      "\n",
      "Chi-Square Test for Table Booking vs Price Range: p-value = 0.00000\n",
      "There is a significant relationship between price range and table booking.\n"
     ]
    }
   ],
   "source": [
    "import pandas as pd\n",
    "import scipy.stats as stats\n",
    "\n",
    "# Contingency tables\n",
    "online_delivery_ct = pd.crosstab(df['Price range'], df['Has Online delivery'])\n",
    "table_booking_ct = pd.crosstab(df['Price range'], df['Has Table booking'])\n",
    "\n",
    "# Chi-square test \n",
    "chi2_online, p_online, dof_online, expected_online = stats.chi2_contingency(online_delivery_ct)\n",
    "chi2_table, p_table, dof_table, expected_table = stats.chi2_contingency(table_booking_ct)\n",
    "\n",
    "\n",
    "print(f\"Chi-Square Test for Online Delivery vs Price Range: p-value = {p_online:.5f}\")\n",
    "if p_online < 0.05:\n",
    "    print(\"There is a significant relationship between price range and online delivery.\")\n",
    "else:\n",
    "    print(\"No significant relationship between price range and online delivery.\")\n",
    "\n",
    "print(f\"\\nChi-Square Test for Table Booking vs Price Range: p-value = {p_table:.5f}\")\n",
    "if p_table < 0.05:\n",
    "    print(\"There is a significant relationship between price range and table booking.\")\n",
    "else:\n",
    "    print(\"No significant relationship between price range and table booking.\")\n"
   ]
  },
  {
   "cell_type": "markdown",
   "metadata": {},
   "source": [
    "Conclusion from Chi-Square Test\n",
    "Since the p-value = 0.00000 (which is less than 0.05), we reject the null hypothesis for both tests:\n",
    "\n",
    "Price Range vs Online Delivery:\n",
    "→ There is a significant relationship between price range and online delivery. This suggests that higher-priced restaurants are more or less likely to offer online delivery compared to lower-priced ones.\n",
    "\n",
    "Price Range vs Table Booking:\n",
    "→ There is a significant relationship between price range and table booking. This means that the availability of table booking varies significantly with price range."
   ]
  }
 ],
 "metadata": {
  "kernelspec": {
   "display_name": "base",
   "language": "python",
   "name": "python3"
  },
  "language_info": {
   "codemirror_mode": {
    "name": "ipython",
    "version": 3
   },
   "file_extension": ".py",
   "mimetype": "text/x-python",
   "name": "python",
   "nbconvert_exporter": "python",
   "pygments_lexer": "ipython3",
   "version": "3.12.7"
  }
 },
 "nbformat": 4,
 "nbformat_minor": 2
}
